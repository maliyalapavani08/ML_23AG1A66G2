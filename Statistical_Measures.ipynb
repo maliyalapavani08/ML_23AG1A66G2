{
  "nbformat": 4,
  "nbformat_minor": 0,
  "metadata": {
    "colab": {
      "provenance": [],
      "authorship_tag": "ABX9TyPdJz34e+5khI7zp6Vt2cdG",
      "include_colab_link": true
    },
    "kernelspec": {
      "name": "python3",
      "display_name": "Python 3"
    },
    "language_info": {
      "name": "python"
    }
  },
  "cells": [
    {
      "cell_type": "markdown",
      "metadata": {
        "id": "view-in-github",
        "colab_type": "text"
      },
      "source": [
        "<a href=\"https://colab.research.google.com/github/maliyalapavani08/ML_23AG1A66G2/blob/main/Statistical_Measures.ipynb\" target=\"_parent\"><img src=\"https://colab.research.google.com/assets/colab-badge.svg\" alt=\"Open In Colab\"/></a>"
      ]
    },
    {
      "cell_type": "markdown",
      "source": [
        "Statistical measures"
      ],
      "metadata": {
        "id": "4kzTXwFOo8k5"
      }
    },
    {
      "cell_type": "code",
      "execution_count": 2,
      "metadata": {
        "colab": {
          "base_uri": "https://localhost:8080/"
        },
        "id": "vyrx1PHKk-iU",
        "outputId": "53195daf-f24c-4e80-a3ce-1fd9f5154bdb"
      },
      "outputs": [
        {
          "output_type": "stream",
          "name": "stdout",
          "text": [
            "Mean: 5\n",
            "Median: 4.5\n",
            "Mode: 4\n",
            "Variance: 4.0\n",
            "Standard Deviation: 2.0\n"
          ]
        }
      ],
      "source": [
        "import numpy as np\n",
        "from statistics import mean, median, mode\n",
        "\n",
        "# Example data\n",
        "data = [2, 4, 4, 4, 5, 5, 7, 9]\n",
        "\n",
        "# Central Tendency Measures\n",
        "print(\"Mean:\", mean(data))\n",
        "print(\"Median:\", median(data))\n",
        "print(\"Mode:\", mode(data))\n",
        "\n",
        "# Measures of Dispersion\n",
        "print(\"Variance:\", np.var(data))\n",
        "print(\"Standard Deviation:\", np.std(data))"
      ]
    },
    {
      "cell_type": "markdown",
      "source": [
        "1. Number Functions\n",
        "\n",
        "math.ceil(x): Returns the smallest integer greater than or equal to x.\n",
        "\n",
        "math.floor(x): Returns the largest integer less than or equal to x.\n",
        "\n",
        "math.trunc(x): Truncates the decimal and returns the integer part."
      ],
      "metadata": {
        "id": "DmsfgnGWpGxH"
      }
    },
    {
      "cell_type": "code",
      "source": [
        "\n",
        "import math\n",
        "print(math.ceil(2.3))\n",
        "print(math.floor(2.7))\n",
        "print(math.trunc(8.9))\n",
        ""
      ],
      "metadata": {
        "colab": {
          "base_uri": "https://localhost:8080/"
        },
        "id": "Lu9LtSpgpJgf",
        "outputId": "cdcb45a4-75ed-4a8c-9c29-69295fc79e93"
      },
      "execution_count": 3,
      "outputs": [
        {
          "output_type": "stream",
          "name": "stdout",
          "text": [
            "3\n",
            "2\n",
            "8\n"
          ]
        }
      ]
    },
    {
      "cell_type": "markdown",
      "source": [
        "2. Power and Logarithmic Functions\n",
        "\n",
        "math.pow(x, y): Returns x power y as a float.\n",
        "\n",
        "math.sqrt(x): Returns the square root of x.\n",
        "\n",
        "math.exp(x): Returns e power x (the exponential of x).\n",
        "\n",
        "math.log(x, base): Returns the logarithm of x to the given base."
      ],
      "metadata": {
        "id": "6DwyUUebpSZ_"
      }
    },
    {
      "cell_type": "code",
      "source": [
        "print(math.pow(2, 3))\n",
        "print(math.sqrt(16))\n",
        "print(math.exp(2))\n",
        "print(math.log(100, 10))\n",
        ""
      ],
      "metadata": {
        "colab": {
          "base_uri": "https://localhost:8080/"
        },
        "id": "xmCTGXpnpVfv",
        "outputId": "d2f85e5a-3c0c-40c4-8072-7c026bb49d30"
      },
      "execution_count": 4,
      "outputs": [
        {
          "output_type": "stream",
          "name": "stdout",
          "text": [
            "8.0\n",
            "4.0\n",
            "7.38905609893065\n",
            "2.0\n"
          ]
        }
      ]
    },
    {
      "cell_type": "markdown",
      "source": [
        "3. Trigonometric Functions\n",
        "\n",
        "math.sin(x), math.cos(x), math.tan(x): Trigonometric functions (input in radians).\n",
        "\n",
        "math.radians(x): Converts degrees to radians.\n",
        "\n",
        "math.degrees(x): Converts radians to degrees.\n",
        "\n"
      ],
      "metadata": {
        "id": "WO9x0WucpbmR"
      }
    },
    {
      "cell_type": "code",
      "source": [
        "print(math.sin(math.pi/2))\n",
        "print(math.cos(0))\n",
        "print(math.tan(math.pi/4))\n",
        "\n",
        "print(math.radians(90))\n",
        "\n",
        "print(math.degrees(math.pi))\n",
        ""
      ],
      "metadata": {
        "colab": {
          "base_uri": "https://localhost:8080/"
        },
        "id": "UGnqJb-Gpj1h",
        "outputId": "c8df0e66-9b85-4141-a866-9a37c19b0159"
      },
      "execution_count": 5,
      "outputs": [
        {
          "output_type": "stream",
          "name": "stdout",
          "text": [
            "1.0\n",
            "1.0\n",
            "0.9999999999999999\n",
            "1.5707963267948966\n",
            "180.0\n"
          ]
        }
      ]
    },
    {
      "cell_type": "markdown",
      "source": [
        "4. Special Functions\n",
        "\n",
        "math.factorial(x): Returns the factorial of x (x!).\n",
        "\n",
        "math.gcd(a, b): Computes the greatest common divisor.\n",
        "\n",
        "math.fabs(x): Returns the absolute value as a float."
      ],
      "metadata": {
        "id": "eV8KLkTHqzz3"
      }
    },
    {
      "cell_type": "code",
      "source": [
        "print(math.factorial(8))\n",
        "print(math.gcd(44, 8))\n",
        "print(math.fabs(-7.5))\n",
        "\n"
      ],
      "metadata": {
        "colab": {
          "base_uri": "https://localhost:8080/"
        },
        "id": "YeBvKnS7rwwi",
        "outputId": "01834913-f32a-4446-84cf-fa39e3cf26d4"
      },
      "execution_count": 12,
      "outputs": [
        {
          "output_type": "stream",
          "name": "stdout",
          "text": [
            "40320\n",
            "4\n",
            "7.5\n"
          ]
        }
      ]
    },
    {
      "cell_type": "markdown",
      "source": [
        "5. Constants\n",
        "\n",
        "math.pi: The value of π.\n",
        "\n",
        "math.e: The value of Euler’s number e."
      ],
      "metadata": {
        "id": "6A0ubuxAr3so"
      }
    },
    {
      "cell_type": "code",
      "source": [
        "print(math.pi)\n",
        "print(math.e)\n",
        ""
      ],
      "metadata": {
        "colab": {
          "base_uri": "https://localhost:8080/"
        },
        "id": "s86RDpwjr51o",
        "outputId": "c93c3c88-969a-4c96-8e5e-4e4191b91d07"
      },
      "execution_count": 8,
      "outputs": [
        {
          "output_type": "stream",
          "name": "stdout",
          "text": [
            "3.141592653589793\n",
            "2.718281828459045\n"
          ]
        }
      ]
    },
    {
      "cell_type": "markdown",
      "source": [
        "SciPy\n",
        "\n",
        "SciPy is a scientific computation library that uses NumPy underneath.\n",
        "\n",
        "SciPy stands for Scientific Python.\n",
        "\n",
        "It provides more utility functions for optimization, stats and signal processing.\n",
        "\n",
        "Like NumPy, SciPy is open source so we can use it freely.\n",
        "\n",
        "SciPy was created by NumPy's creator Travis Olliphant."
      ],
      "metadata": {
        "id": "6TFsqKi58s5o"
      }
    },
    {
      "cell_type": "code",
      "source": [
        "#Print the constant value of PI:\n",
        "\n",
        "from scipy import constants\n",
        "\n",
        "print(constants.pi)\n",
        "\n",
        "print(constants.yotta)    #1e+24\n",
        "print(constants.zetta)    #1e+21\n",
        "print(constants.exa)      #1e+18\n",
        "print(constants.peta)     #1000000000000000.0\n",
        "print(constants.tera)     #1000000000000.0\n",
        "print(constants.giga)     #1000000000.0\n",
        "print(constants.mega)     #1000000.0\n",
        "print(constants.kilo)     #1000.0\n",
        "print(constants.hecto)    #100.0\n",
        "print(constants.deka)     #10.0\n",
        "print(constants.deci)     #0.1\n",
        "print(constants.centi)    #0.01\n",
        "print(constants.milli)    #0.001\n",
        "print(constants.micro)    #1e-06\n",
        "print(constants.nano)     #1e-09\n",
        "print(constants.pico)     #1e-12\n",
        "print(constants.femto)    #1e-15\n",
        "print(constants.atto)     #1e-18\n",
        "print(constants.zepto)    #1e-21"
      ],
      "metadata": {
        "colab": {
          "base_uri": "https://localhost:8080/"
        },
        "id": "U2PUZ4qS8uns",
        "outputId": "6a07536b-4f8d-4a81-fbcd-442a2021f5ce"
      },
      "execution_count": 13,
      "outputs": [
        {
          "output_type": "stream",
          "name": "stdout",
          "text": [
            "3.141592653589793\n",
            "1e+24\n",
            "1e+21\n",
            "1e+18\n",
            "1000000000000000.0\n",
            "1000000000000.0\n",
            "1000000000.0\n",
            "1000000.0\n",
            "1000.0\n",
            "100.0\n",
            "10.0\n",
            "0.1\n",
            "0.01\n",
            "0.001\n",
            "1e-06\n",
            "1e-09\n",
            "1e-12\n",
            "1e-15\n",
            "1e-18\n",
            "1e-21\n"
          ]
        }
      ]
    },
    {
      "cell_type": "code",
      "source": [
        "#Binary Prefixes:\n",
        "#Return the specified unit in bytes (e.g. kibi returns 1024)\n",
        "\n",
        "print(constants.kibi)    #1024\n",
        "print(constants.mebi)    #1048576\n",
        "print(constants.gibi)    #1073741824\n",
        "print(constants.tebi)    #1099511627776\n",
        "print(constants.pebi)    #1125899906842624\n",
        "print(constants.exbi)    #1152921504606846976\n",
        "print(constants.zebi)    #1180591620717411303424\n",
        "print(constants.yobi)    #1208925819614629174706176"
      ],
      "metadata": {
        "colab": {
          "base_uri": "https://localhost:8080/"
        },
        "id": "ofX1k39U855A",
        "outputId": "3b5c8c0b-90ed-4d44-da15-93811ac74008"
      },
      "execution_count": 14,
      "outputs": [
        {
          "output_type": "stream",
          "name": "stdout",
          "text": [
            "1024\n",
            "1048576\n",
            "1073741824\n",
            "1099511627776\n",
            "1125899906842624\n",
            "1152921504606846976\n",
            "1180591620717411303424\n",
            "1208925819614629174706176\n"
          ]
        }
      ]
    },
    {
      "cell_type": "code",
      "source": [
        "#Connected Components\n",
        "#Find all of the connected components with the connected_components() method.\n",
        "import numpy as np\n",
        "from scipy.sparse.csgraph import connected_components\n",
        "from scipy.sparse import csr_matrix\n",
        "\n",
        "arr = np.array([\n",
        "  [0, 1, 2],\n",
        "  [1, 0, 0],\n",
        "  [2, 0, 0]\n",
        "])\n",
        "\n",
        "newarr = csr_matrix(arr)\n",
        "\n",
        "print(connected_components(newarr))\n",
        ""
      ],
      "metadata": {
        "colab": {
          "base_uri": "https://localhost:8080/"
        },
        "id": "8exFH9QQ9G_a",
        "outputId": "26124d51-8665-4d44-8bb3-32bc0797e023"
      },
      "execution_count": 15,
      "outputs": [
        {
          "output_type": "stream",
          "name": "stdout",
          "text": [
            "(1, array([0, 0, 0], dtype=int32))\n"
          ]
        }
      ]
    },
    {
      "cell_type": "markdown",
      "source": [
        "Dijkstra\n",
        "\n",
        "Use the dijkstra method to find the shortest path in a graph from one element to another.\n",
        "\n",
        "It takes following arguments:\n",
        "\n",
        "return_predecessors: boolean (True to return whole path of traversal otherwise False). indices: index of the element to return all paths from that element only. limit: max weight of path."
      ],
      "metadata": {
        "id": "OxP144-e9Mng"
      }
    },
    {
      "cell_type": "code",
      "source": [
        "#Find the shortest path from element 1 to 2:\n",
        "\n",
        "import numpy as np\n",
        "from scipy.sparse.csgraph import dijkstra\n",
        "from scipy.sparse import csr_matrix\n",
        "\n",
        "arr = np.array([\n",
        "  [0, 1, 2],\n",
        "  [1, 0, 0],\n",
        "  [2, 0, 0]\n",
        "])\n",
        "\n",
        "newarr = csr_matrix(arr)\n",
        "\n",
        "print(dijkstra(newarr, return_predecessors=True, indices=0))"
      ],
      "metadata": {
        "colab": {
          "base_uri": "https://localhost:8080/"
        },
        "id": "alffZMrs9N94",
        "outputId": "a0a27e35-4565-4e07-da87-97366972294c"
      },
      "execution_count": 16,
      "outputs": [
        {
          "output_type": "stream",
          "name": "stdout",
          "text": [
            "(array([0., 1., 2.]), array([-9999,     0,     0], dtype=int32))\n"
          ]
        }
      ]
    },
    {
      "cell_type": "code",
      "source": [
        "#Floyd Warshall\n",
        "\n",
        "\n",
        "import numpy as np\n",
        "from scipy.sparse.csgraph import floyd_warshall\n",
        "from scipy.sparse import csr_matrix\n",
        "\n",
        "arr = np.array([\n",
        "  [0, 1, 2],\n",
        "  [1, 0, 0],\n",
        "  [2, 0, 0]\n",
        "])\n",
        "\n",
        "newarr = csr_matrix(arr)\n",
        "\n",
        "print(floyd_warshall(newarr, return_predecessors=True))"
      ],
      "metadata": {
        "colab": {
          "base_uri": "https://localhost:8080/"
        },
        "id": "Sua742sM9WMD",
        "outputId": "b0f597bb-f874-41b1-af13-11950d527e83"
      },
      "execution_count": 21,
      "outputs": [
        {
          "output_type": "stream",
          "name": "stdout",
          "text": [
            "(array([[0., 1., 2.],\n",
            "       [1., 0., 3.],\n",
            "       [2., 3., 0.]]), array([[-9999,     0,     0],\n",
            "       [    1, -9999,     0],\n",
            "       [    2,     0, -9999]], dtype=int32))\n"
          ]
        }
      ]
    },
    {
      "cell_type": "code",
      "source": [
        "\n",
        "\n",
        "import numpy as np\n",
        "from scipy.sparse.csgraph import bellman_ford\n",
        "from scipy.sparse import csr_matrix\n",
        "\n",
        "arr = np.array([\n",
        "  [0, -1, 2],\n",
        "  [1, 0, 0],\n",
        "  [2, 0, 0]\n",
        "])\n",
        "\n",
        "newarr = csr_matrix(arr)\n",
        "\n",
        "print(bellman_ford(newarr, return_predecessors=True, indices=0))\n",
        ""
      ],
      "metadata": {
        "colab": {
          "base_uri": "https://localhost:8080/"
        },
        "id": "x0fAX9o49aut",
        "outputId": "6d2fae09-fb2a-4363-dd0b-bb376e0f2952"
      },
      "execution_count": 20,
      "outputs": [
        {
          "output_type": "stream",
          "name": "stdout",
          "text": [
            "(array([ 0., -1.,  2.]), array([-9999,     0,     0], dtype=int32))\n"
          ]
        }
      ]
    }
  ]
}